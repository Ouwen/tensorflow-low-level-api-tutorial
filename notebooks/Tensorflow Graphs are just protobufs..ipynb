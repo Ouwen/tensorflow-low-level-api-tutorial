{
 "cells": [
  {
   "cell_type": "markdown",
   "metadata": {},
   "source": [
    "# Tensorflow Graphs are just protobufs.\n",
    "\n",
    "(First post [here](https://medium.com/@ouwenhuang/how-to-learn-tensorflow-the-hard-way-8b34b1e8e173)). In a Tensorflow computational graph, nodes are [`tf.Operation`](https://www.tensorflow.org/versions/master/api_docs/python/tf/Operation) objects and edges pass [`tf.Tensor`](https://www.tensorflow.org/versions/master/api_docs/python/tf/Tensor) objects. A `tf.Operation` then takes `tf.Tensor` objects as inputs and outputs.\n",
    "\n",
    "<img src=\"../figures/graph_update.png\" width=\"700\"/>\n",
    "*Figure 1: The figure above is an example of a computational graph. Each node **{A, B, C, D, E, F}** performs some computational operation. **{A}** will square inputs, **{B}** will cube inputs, **{C}** adds one, etc. Each individual node is dependent only on its inputs. The program is created by the way nodes are wired together.\n",
    "*\n",
    "\n",
    "Let’s create the computational graph (figure 1) using the mathematical `tf.Operation` objects provided [here](https://www.tensorflow.org/api_docs/python/tf#functions). **Important note: we are only building the graph, not evaluating.** This is equivalent to typing numbers into the calculator without pressing enter."
   ]
  },
  {
   "cell_type": "code",
   "execution_count": 1,
   "metadata": {},
   "outputs": [
    {
     "data": {
      "text/html": [
       "\n",
       "        <iframe seamless style=\"width:1200px;height:620px;border:0\" srcdoc=\"\n",
       "        <script src=&quot;//cdnjs.cloudflare.com/ajax/libs/polymer/0.3.3/platform.js&quot;></script>\n",
       "        <script>\n",
       "          function load() {\n",
       "            document.getElementById(&quot;graph0.720214965032&quot;).pbtxt = 'node {\\n  name: &quot;input&quot;\\n  op: &quot;Const&quot;\\n  attr {\\n    key: &quot;dtype&quot;\\n    value {\\n      type: DT_FLOAT\\n    }\\n  }\\n  attr {\\n    key: &quot;value&quot;\\n    value {\\n      tensor {\\n        dtype: DT_FLOAT\\n        tensor_shape {\\n        }\\n        float_val: 2.0\\n      }\\n    }\\n  }\\n}\\nnode {\\n  name: &quot;A&quot;\\n  op: &quot;Square&quot;\\n  input: &quot;input&quot;\\n  attr {\\n    key: &quot;T&quot;\\n    value {\\n      type: DT_FLOAT\\n    }\\n  }\\n}\\nnode {\\n  name: &quot;B&quot;\\n  op: &quot;Cos&quot;\\n  input: &quot;A&quot;\\n  attr {\\n    key: &quot;T&quot;\\n    value {\\n      type: DT_FLOAT\\n    }\\n  }\\n}\\nnode {\\n  name: &quot;C&quot;\\n  op: &quot;Sin&quot;\\n  input: &quot;A&quot;\\n  attr {\\n    key: &quot;T&quot;\\n    value {\\n      type: DT_FLOAT\\n    }\\n  }\\n}\\nnode {\\n  name: &quot;D&quot;\\n  op: &quot;Add&quot;\\n  input: &quot;B&quot;\\n  input: &quot;C&quot;\\n  attr {\\n    key: &quot;T&quot;\\n    value {\\n      type: DT_FLOAT\\n    }\\n  }\\n}\\nnode {\\n  name: &quot;E&quot;\\n  op: &quot;Floor&quot;\\n  input: &quot;B&quot;\\n  attr {\\n    key: &quot;T&quot;\\n    value {\\n      type: DT_FLOAT\\n    }\\n  }\\n}\\nnode {\\n  name: &quot;F&quot;\\n  op: &quot;Sqrt&quot;\\n  input: &quot;D&quot;\\n  attr {\\n    key: &quot;T&quot;\\n    value {\\n      type: DT_FLOAT\\n    }\\n  }\\n}\\n';\n",
       "          }\n",
       "        </script>\n",
       "        <link rel=&quot;import&quot; href=&quot;https://tensorboard.appspot.com/tf-graph-basic.build.html&quot; onload=load()>\n",
       "        <div style=&quot;height:600px&quot;>\n",
       "          <tf-graph-basic id=&quot;graph0.720214965032&quot;></tf-graph-basic>\n",
       "        </div>\n",
       "    \"></iframe>\n",
       "    "
      ],
      "text/plain": [
       "<IPython.core.display.HTML object>"
      ]
     },
     "metadata": {},
     "output_type": "display_data"
    }
   ],
   "source": [
    "import tensorflow as tf\n",
    "import numpy as np\n",
    "from src import cloud_visualizer\n",
    "\n",
    "# Let's explicitly create an empty graph: `g1`.\n",
    "#\n",
    "# Note, tensorflow has a default graph that can be used but we \n",
    "# explicitly create `g1` for clarity.\n",
    "g1 = tf.Graph()\n",
    "\n",
    "# `my_input_value` is a tensor-like object. \n",
    "# We provide a simple scalar and a numpy array as examples.\n",
    "\n",
    "# my_input_value = np.random.multivariate_normal(\n",
    "#     mean=(1,1),\n",
    "#     cov=[[1,0], [0,1]],\n",
    "#     size=10\n",
    "# )\n",
    "\n",
    "# simple scalar value\n",
    "my_input_value = 2\n",
    "\n",
    "# We want our operations to be placed on `g1` and not the default graph.\n",
    "with g1.as_default():\n",
    "    \n",
    "    # Tensorflow operations usually take in a Tensor-like type, a data type, and a name.\n",
    "    my_input = tf.constant(my_input_value, dtype=tf.float32, name=\"input\")\n",
    "    \n",
    "    # These will be implicitly dtype `tf.float16`\n",
    "    a = tf.square(my_input, name=\"A\")\n",
    "    b = tf.cos(a, name=\"B\")\n",
    "    c = tf.sin(a, name=\"C\")   \n",
    "    d = tf.add(b, c, name=\"D\")\n",
    "    e = tf.floor(b, name=\"E\")\n",
    "    f = tf.sqrt(d, name=\"F\")\n",
    "\n",
    "# We can write the graph as protobuf text file\n",
    "tf.train.write_graph(graph_or_graph_def=g1, \n",
    "                     logdir='/tmp/storage/', \n",
    "                     name='graph_protobuf.pbtxt')\n",
    "\n",
    "# We can write out our graph to tensorboard for visualization\n",
    "tf.summary.FileWriter(\"/tmp/logs\", g1).close()\n",
    "cloud_visualizer.show_graph(g1)\n",
    "\n",
    "# Generate a tensorboard visualization by running the following command\n",
    "# `tensorboard --logdir=/tmp/logs`"
   ]
  },
  {
   "cell_type": "markdown",
   "metadata": {},
   "source": [
    "*Every node (including the input constant) is a `tf.Operation`, and every line passes a `tf.Tensor`.*"
   ]
  },
  {
   "cell_type": "markdown",
   "metadata": {},
   "source": [
    "Each of the operations above can take in a [tensor-like object](https://www.tensorflow.org/programmers_guide/graphs#tensor-like_objects) (scalar, list, numpy array). `tf.Tensor` should feel very similar to python [numpy](https://docs.scipy.org/doc/numpy-dev/user/quickstart.html).\n",
    "\n",
    " - They have similar data types which must be conformed to. ([`tf.DType`](https://www.tensorflow.org/api_docs/python/tf/DType): e.g. `tf.float16`, `tf.string`, `tf.variant`)\n",
    " - They allow for n-dimensional shapes: [0-dimensional scalar](https://www.tensorflow.org/versions/master/programmers_guide/tensors#rank_0), [1-dimensional vector](https://www.tensorflow.org/versions/master/programmers_guide/tensors#rank_1), [2-dimensional matrix](https://www.tensorflow.org/versions/master/programmers_guide/tensors#higher_ranks), etc.\n",
    " - They have a similar [matrix slice notation](https://www.tensorflow.org/api_docs/python/tf/Tensor#__getitem__).\n",
    " \n",
    "However, `tf.Tensor` objects are only symbolic handles, and do not actually provide a concrete value until evaluated. It is a redeemable prize ticket, not the prize itself.\n",
    "\n",
    "We will use [tensorboard](https://www.tensorflow.org/guide/summaries_and_tensorboard#launching_tensorboard), a graph visualization tool to view our built graph. (run the above cell)"
   ]
  },
  {
   "cell_type": "markdown",
   "metadata": {},
   "source": [
    "We have now defined a graph which can be saved in a [protocol buffer text](https://developers.google.com/protocol-buffers/) format. Protocol buffers are just like any other structure notation such as JSON, XML, HTML. Protobuf is a preferred choice because they are very compact, and are strongly typed. Tensorflow graphs use the protobuf GraphDef to define a graph. This `GraphDef` protobuf can be exported and imported.\n",
    "\n",
    "We can view graph `g1` by running `g1.as_graph_def()` this will output the text form of the graph, which we view below.\n",
    "\n",
    "<img src=\"../figures/code.gif\" width=\"700\"/>\n",
    "*This protobuf contains the numpy matrix input graph, the full ascii video can be viewed [here](https://asciinema.org/a/177052). The simple float32 gist in this article can be found [here](https://gist.github.com/Ouwen/e656b9114ba146a49b2a0c2d870e5049).*\n",
    "\n",
    "This protobuf file contains everything needed to reconstruct a tensorflow graph. You can load in the `graph_protobuf.pbtxt` to retrieve the program. Changing the internals of this file is analogous to programming a new graph program.\n"
   ]
  },
  {
   "cell_type": "code",
   "execution_count": 2,
   "metadata": {},
   "outputs": [
    {
     "data": {
      "text/plain": [
       "node {\n",
       "  name: \"input\"\n",
       "  op: \"Const\"\n",
       "  attr {\n",
       "    key: \"dtype\"\n",
       "    value {\n",
       "      type: DT_FLOAT\n",
       "    }\n",
       "  }\n",
       "  attr {\n",
       "    key: \"value\"\n",
       "    value {\n",
       "      tensor {\n",
       "        dtype: DT_FLOAT\n",
       "        tensor_shape {\n",
       "        }\n",
       "        float_val: 2.0\n",
       "      }\n",
       "    }\n",
       "  }\n",
       "}\n",
       "node {\n",
       "  name: \"A\"\n",
       "  op: \"Square\"\n",
       "  input: \"input\"\n",
       "  attr {\n",
       "    key: \"T\"\n",
       "    value {\n",
       "      type: DT_FLOAT\n",
       "    }\n",
       "  }\n",
       "}\n",
       "node {\n",
       "  name: \"B\"\n",
       "  op: \"Cos\"\n",
       "  input: \"A\"\n",
       "  attr {\n",
       "    key: \"T\"\n",
       "    value {\n",
       "      type: DT_FLOAT\n",
       "    }\n",
       "  }\n",
       "}\n",
       "node {\n",
       "  name: \"C\"\n",
       "  op: \"Sin\"\n",
       "  input: \"A\"\n",
       "  attr {\n",
       "    key: \"T\"\n",
       "    value {\n",
       "      type: DT_FLOAT\n",
       "    }\n",
       "  }\n",
       "}\n",
       "node {\n",
       "  name: \"D\"\n",
       "  op: \"Add\"\n",
       "  input: \"B\"\n",
       "  input: \"C\"\n",
       "  attr {\n",
       "    key: \"T\"\n",
       "    value {\n",
       "      type: DT_FLOAT\n",
       "    }\n",
       "  }\n",
       "}\n",
       "node {\n",
       "  name: \"E\"\n",
       "  op: \"Floor\"\n",
       "  input: \"B\"\n",
       "  attr {\n",
       "    key: \"T\"\n",
       "    value {\n",
       "      type: DT_FLOAT\n",
       "    }\n",
       "  }\n",
       "}\n",
       "node {\n",
       "  name: \"F\"\n",
       "  op: \"Sqrt\"\n",
       "  input: \"D\"\n",
       "  attr {\n",
       "    key: \"T\"\n",
       "    value {\n",
       "      type: DT_FLOAT\n",
       "    }\n",
       "  }\n",
       "}\n",
       "versions {\n",
       "  producer: 24\n",
       "}"
      ]
     },
     "execution_count": 2,
     "metadata": {},
     "output_type": "execute_result"
    }
   ],
   "source": [
    "import tensorflow as tf\n",
    "from google.protobuf import text_format\n",
    "\n",
    "# Let's read our pbtxt file into a Graph protobuf\n",
    "f = open(\"/tmp/storage/graph_protobuf.pbtxt\", \"r\")\n",
    "graph_protobuf = text_format.Parse(f.read(), tf.GraphDef())\n",
    "\n",
    "# Import the graph protobuf into our new graph.\n",
    "graph_clone = tf.Graph()\n",
    "with graph_clone.as_default():\n",
    "    tf.import_graph_def(graph_def=graph_protobuf, name=\"\")\n",
    "\n",
    "# Display the graph inline.\n",
    "graph_clone.as_graph_def()"
   ]
  },
  {
   "cell_type": "markdown",
   "metadata": {},
   "source": [
    "So far we have only been admiring our graph program, but we have not actually run it yet. We will do so with the tensorflow Session API [here](https://medium.com/@ouwenhuang/tensorflow-sessions-statically-run-tensorflow-graphs-1075ef346783)."
   ]
  }
 ],
 "metadata": {
  "kernelspec": {
   "display_name": "Python 2",
   "language": "python",
   "name": "python2"
  },
  "language_info": {
   "codemirror_mode": {
    "name": "ipython",
    "version": 2
   },
   "file_extension": ".py",
   "mimetype": "text/x-python",
   "name": "python",
   "nbconvert_exporter": "python",
   "pygments_lexer": "ipython2",
   "version": "2.7.12"
  }
 },
 "nbformat": 4,
 "nbformat_minor": 2
}
