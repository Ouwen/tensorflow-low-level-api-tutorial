{
 "cells": [
  {
   "cell_type": "markdown",
   "metadata": {},
   "source": [
    "# Tensorflow Sessions statically run Tensorflow Graphs.\n",
    "\n",
    "If you have some Tensorflow Graph, whether you downloaded or created it from scratch using the tensorflow’s **Graph API**. You will need to use the **Session API** to run it.\n",
    "\n",
    "We will take the following graph as a simple example. When we call `sess.run()` on `tf.Tensor` types.\n",
    "\n",
    "`g1.get_operation_by_name` will simply return the `tf.Operation` object. We can get an array of the `tf.Tensor` objects that this operation produces with the `.outputs` attribute. **Remember, it is an important distinction to make that `tf.Tensor` and `tf.Operation` are different**! `tf.Operation` is a node `tf.Tensor` is an edge.\n",
    "\n"
   ]
  },
  {
   "cell_type": "code",
   "execution_count": 1,
   "metadata": {},
   "outputs": [
    {
     "name": "stdout",
     "output_type": "stream",
     "text": [
      "A:[array([ 1.,  0.,  1.], dtype=float16)]\n",
      "B:[array([ 0.54052734,  1.        ,  0.54052734], dtype=float16)]\n",
      "C:[array([ 0.84130859,  0.        ,  0.84130859], dtype=float16)]\n",
      "D:[array([ 1.38183594,  1.        ,  1.38183594], dtype=float16)]\n",
      "E:[array([ 0.,  1.,  0.], dtype=float16)]\n",
      "F:[array([ 1.17578125,  1.        ,  1.17578125], dtype=float16)]\n"
     ]
    }
   ],
   "source": [
    "import tensorflow as tf\n",
    "\n",
    "g1 = tf.Graph()\n",
    "\n",
    "with g1.as_default():\n",
    "    my_input = tf.constant([-1,0,1], dtype=tf.float16, name=\"input\")\n",
    "    a = tf.square(my_input, name=\"A\")\n",
    "    b = tf.cos(a, name=\"B\")\n",
    "    c = tf.sin(a, name=\"C\")   \n",
    "    d = tf.add(b, c, name=\"D\")\n",
    "    e = tf.floor(b, name=\"E\")\n",
    "    f = tf.sqrt(d, name=\"F\")\n",
    "    \n",
    "sess = tf.Session(graph=g1);\n",
    "print(\"A:{}\".format(sess.run(g1.get_operation_by_name(\"A\").outputs)))\n",
    "print(\"B:{}\".format(sess.run(g1.get_operation_by_name(\"B\").outputs)))\n",
    "print(\"C:{}\".format(sess.run(g1.get_operation_by_name(\"C\").outputs)))\n",
    "print(\"D:{}\".format(sess.run(g1.get_operation_by_name(\"D\").outputs)))\n",
    "print(\"E:{}\".format(sess.run(g1.get_operation_by_name(\"E\").outputs)))\n",
    "print(\"F:{}\".format(sess.run(g1.get_operation_by_name(\"F\").outputs)))"
   ]
  },
  {
   "cell_type": "markdown",
   "metadata": {},
   "source": [
    "The way we run the graph above is actually very inefficient. It is running 6 times. You can see this by [running a quick `tf.Print`](https://gist.github.com/Ouwen/66326b796311f0cca3c60067b9237124). `tf.Print` is a graph node that outputs values and messages to `stderr` from the Tensorflow C++ Runtime.\n",
    "\n",
    "<img src=\"../figures/yikes.png\" width=\"400\"/>\n",
    "*Yikes*\n",
    "\n",
    "We only want to run the graph once and retrieve all outputs. We can easily tweak our code so that we only make one `run` call. We will also notice that the graph is run just once instead of 6 times."
   ]
  },
  {
   "cell_type": "code",
   "execution_count": 2,
   "metadata": {},
   "outputs": [
    {
     "data": {
      "text/plain": [
       "{'A': [array([ 1.,  0.,  1.], dtype=float16)],\n",
       " 'B': [array([ 0.54052734,  1.        ,  0.54052734], dtype=float16)],\n",
       " 'C': [array([ 0.84130859,  0.        ,  0.84130859], dtype=float16)],\n",
       " 'D': [array([ 1.38183594,  1.        ,  1.38183594], dtype=float16)],\n",
       " 'E': [array([ 0.,  1.,  0.], dtype=float16)],\n",
       " 'F': [array([ 1.17578125,  1.        ,  1.17578125], dtype=float16)]}"
      ]
     },
     "execution_count": 2,
     "metadata": {},
     "output_type": "execute_result"
    }
   ],
   "source": [
    "import tensorflow as tf\n",
    "\n",
    "g1 = tf.Graph()\n",
    "\n",
    "with g1.as_default():\n",
    "    my_input = tf.constant([-1,0,1], dtype=tf.float16, name=\"input\")\n",
    "    my_printed_input = tf.Print(my_input, [my_input], message=\"Running the graph\", name=\"print\")\n",
    "    a = tf.square(my_printed_input, name=\"A\")\n",
    "    b = tf.cos(a, name=\"B\")\n",
    "    c = tf.sin(a, name=\"C\")   \n",
    "    d = tf.add(b, c, name=\"D\")\n",
    "    e = tf.floor(b, name=\"E\")\n",
    "    f = tf.sqrt(d, name=\"F\")\n",
    "    \n",
    "sess = tf.Session(graph=g1);\n",
    "\n",
    "sess.run({\n",
    "    \"A\": g1.get_operation_by_name(\"A\").outputs,\n",
    "    \"B\": g1.get_operation_by_name(\"B\").outputs,\n",
    "    \"C\": g1.get_operation_by_name(\"C\").outputs,\n",
    "    \"D\": g1.get_operation_by_name(\"D\").outputs,\n",
    "    \"E\": g1.get_operation_by_name(\"E\").outputs,\n",
    "    \"F\": g1.get_operation_by_name(\"F\").outputs\n",
    "})"
   ]
  },
  {
   "cell_type": "markdown",
   "metadata": {},
   "source": [
    "We may want to add some more dynamic elements to our graph. This can be done with `tf.Variable` operations and `tf.Placeholder` operations. \n",
    "\n",
    "`tf.Placeholder` is a simple operation that takes in a value during the session runtime. Rather than having `my_input` be a constant we can instead use a placeholder.\n",
    "\n",
    "`tf.Variable` is a bit more interesting… We will just create a graph with one variable to our graph."
   ]
  },
  {
   "cell_type": "code",
   "execution_count": 3,
   "metadata": {},
   "outputs": [
    {
     "name": "stdout",
     "output_type": "stream",
     "text": [
      "-0.581633\n"
     ]
    },
    {
     "data": {
      "text/html": [
       "\n",
       "        <iframe seamless style=\"width:1200px;height:620px;border:0\" srcdoc=\"\n",
       "        <script src=&quot;//cdnjs.cloudflare.com/ajax/libs/polymer/0.3.3/platform.js&quot;></script>\n",
       "        <script>\n",
       "          function load() {\n",
       "            document.getElementById(&quot;graph0.564066478574&quot;).pbtxt = 'node {\\n  name: &quot;v/Initializer/random_uniform/shape&quot;\\n  op: &quot;Const&quot;\\n  attr {\\n    key: &quot;_class&quot;\\n    value {\\n      list {\\n        s: &quot;loc:@v&quot;\\n      }\\n    }\\n  }\\n  attr {\\n    key: &quot;dtype&quot;\\n    value {\\n      type: DT_INT32\\n    }\\n  }\\n  attr {\\n    key: &quot;value&quot;\\n    value {\\n      tensor {\\n        dtype: DT_INT32\\n        tensor_shape {\\n          dim {\\n          }\\n        }\\n      }\\n    }\\n  }\\n}\\nnode {\\n  name: &quot;v/Initializer/random_uniform/min&quot;\\n  op: &quot;Const&quot;\\n  attr {\\n    key: &quot;_class&quot;\\n    value {\\n      list {\\n        s: &quot;loc:@v&quot;\\n      }\\n    }\\n  }\\n  attr {\\n    key: &quot;dtype&quot;\\n    value {\\n      type: DT_FLOAT\\n    }\\n  }\\n  attr {\\n    key: &quot;value&quot;\\n    value {\\n      tensor {\\n        dtype: DT_FLOAT\\n        tensor_shape {\\n        }\\n        float_val: -1.73205077648\\n      }\\n    }\\n  }\\n}\\nnode {\\n  name: &quot;v/Initializer/random_uniform/max&quot;\\n  op: &quot;Const&quot;\\n  attr {\\n    key: &quot;_class&quot;\\n    value {\\n      list {\\n        s: &quot;loc:@v&quot;\\n      }\\n    }\\n  }\\n  attr {\\n    key: &quot;dtype&quot;\\n    value {\\n      type: DT_FLOAT\\n    }\\n  }\\n  attr {\\n    key: &quot;value&quot;\\n    value {\\n      tensor {\\n        dtype: DT_FLOAT\\n        tensor_shape {\\n        }\\n        float_val: 1.73205077648\\n      }\\n    }\\n  }\\n}\\nnode {\\n  name: &quot;v/Initializer/random_uniform/RandomUniform&quot;\\n  op: &quot;RandomUniform&quot;\\n  input: &quot;v/Initializer/random_uniform/shape&quot;\\n  attr {\\n    key: &quot;T&quot;\\n    value {\\n      type: DT_INT32\\n    }\\n  }\\n  attr {\\n    key: &quot;_class&quot;\\n    value {\\n      list {\\n        s: &quot;loc:@v&quot;\\n      }\\n    }\\n  }\\n  attr {\\n    key: &quot;dtype&quot;\\n    value {\\n      type: DT_FLOAT\\n    }\\n  }\\n  attr {\\n    key: &quot;seed&quot;\\n    value {\\n      i: 0\\n    }\\n  }\\n  attr {\\n    key: &quot;seed2&quot;\\n    value {\\n      i: 0\\n    }\\n  }\\n}\\nnode {\\n  name: &quot;v/Initializer/random_uniform/sub&quot;\\n  op: &quot;Sub&quot;\\n  input: &quot;v/Initializer/random_uniform/max&quot;\\n  input: &quot;v/Initializer/random_uniform/min&quot;\\n  attr {\\n    key: &quot;T&quot;\\n    value {\\n      type: DT_FLOAT\\n    }\\n  }\\n  attr {\\n    key: &quot;_class&quot;\\n    value {\\n      list {\\n        s: &quot;loc:@v&quot;\\n      }\\n    }\\n  }\\n}\\nnode {\\n  name: &quot;v/Initializer/random_uniform/mul&quot;\\n  op: &quot;Mul&quot;\\n  input: &quot;v/Initializer/random_uniform/RandomUniform&quot;\\n  input: &quot;v/Initializer/random_uniform/sub&quot;\\n  attr {\\n    key: &quot;T&quot;\\n    value {\\n      type: DT_FLOAT\\n    }\\n  }\\n  attr {\\n    key: &quot;_class&quot;\\n    value {\\n      list {\\n        s: &quot;loc:@v&quot;\\n      }\\n    }\\n  }\\n}\\nnode {\\n  name: &quot;v/Initializer/random_uniform&quot;\\n  op: &quot;Add&quot;\\n  input: &quot;v/Initializer/random_uniform/mul&quot;\\n  input: &quot;v/Initializer/random_uniform/min&quot;\\n  attr {\\n    key: &quot;T&quot;\\n    value {\\n      type: DT_FLOAT\\n    }\\n  }\\n  attr {\\n    key: &quot;_class&quot;\\n    value {\\n      list {\\n        s: &quot;loc:@v&quot;\\n      }\\n    }\\n  }\\n}\\nnode {\\n  name: &quot;v&quot;\\n  op: &quot;VariableV2&quot;\\n  attr {\\n    key: &quot;_class&quot;\\n    value {\\n      list {\\n        s: &quot;loc:@v&quot;\\n      }\\n    }\\n  }\\n  attr {\\n    key: &quot;container&quot;\\n    value {\\n      s: &quot;&quot;\\n    }\\n  }\\n  attr {\\n    key: &quot;dtype&quot;\\n    value {\\n      type: DT_FLOAT\\n    }\\n  }\\n  attr {\\n    key: &quot;shape&quot;\\n    value {\\n      shape {\\n      }\\n    }\\n  }\\n  attr {\\n    key: &quot;shared_name&quot;\\n    value {\\n      s: &quot;&quot;\\n    }\\n  }\\n}\\nnode {\\n  name: &quot;v/Assign&quot;\\n  op: &quot;Assign&quot;\\n  input: &quot;v&quot;\\n  input: &quot;v/Initializer/random_uniform&quot;\\n  attr {\\n    key: &quot;T&quot;\\n    value {\\n      type: DT_FLOAT\\n    }\\n  }\\n  attr {\\n    key: &quot;_class&quot;\\n    value {\\n      list {\\n        s: &quot;loc:@v&quot;\\n      }\\n    }\\n  }\\n  attr {\\n    key: &quot;use_locking&quot;\\n    value {\\n      b: true\\n    }\\n  }\\n  attr {\\n    key: &quot;validate_shape&quot;\\n    value {\\n      b: true\\n    }\\n  }\\n}\\nnode {\\n  name: &quot;v/read&quot;\\n  op: &quot;Identity&quot;\\n  input: &quot;v&quot;\\n  attr {\\n    key: &quot;T&quot;\\n    value {\\n      type: DT_FLOAT\\n    }\\n  }\\n  attr {\\n    key: &quot;_class&quot;\\n    value {\\n      list {\\n        s: &quot;loc:@v&quot;\\n      }\\n    }\\n  }\\n}\\n';\n",
       "          }\n",
       "        </script>\n",
       "        <link rel=&quot;import&quot; href=&quot;https://tensorboard.appspot.com/tf-graph-basic.build.html&quot; onload=load()>\n",
       "        <div style=&quot;height:600px&quot;>\n",
       "          <tf-graph-basic id=&quot;graph0.564066478574&quot;></tf-graph-basic>\n",
       "        </div>\n",
       "    \"></iframe>\n",
       "    "
      ],
      "text/plain": [
       "<IPython.core.display.HTML object>"
      ]
     },
     "metadata": {},
     "output_type": "display_data"
    }
   ],
   "source": [
    "import tensorflow as tf\n",
    "from src import cloud_visualizer\n",
    "\n",
    "g1 = tf.Graph()\n",
    "with g1.as_default():\n",
    "    # Add a single variable to our graph\n",
    "    v = tf.get_variable(name=\"v\", shape=(), initializer=tf.glorot_uniform_initializer())\n",
    "\n",
    "sess = tf.Session(graph=g1)\n",
    "sess.run(v.initializer) # Run just the initializer on our variable\n",
    "\n",
    "# sess.run(tf.global_variables_initializer()) # This will initialize all variables\n",
    "print(sess.run(v))\n",
    "cloud_visualizer.show_graph(g1)"
   ]
  },
  {
   "cell_type": "markdown",
   "metadata": {},
   "source": [
    "When we inspect what is added to our graph, we notice that `tf.Variable` is actually a group of many different operations: `tf.Identity`, `tf.Assign`, `tf.VariableV2` and more operations within the the `Initializer`. **These exist to help `tf.Variable` store state.**\n",
    "\n",
    "When the variable is first willed into existence, it has no value. This is why when you begin a session you must first initialize your variables, and why there is an `Initializer` is attached to the `tf.Variable` class (in our example we use a random distribution. The snippet above can be run and `sess.run(v)` will print out a random number. However, try placing `sess.run(v)` before the variable is init, and you will receive an error.\n",
    "\n",
    "When using the python API to work with variables, there is under the hood syntax sugar that exists so that you are able to use the variables as though they are normal tensor outputs from a normal operation. A big difference to note is that when we save the graph as a protobuf, the `tf.Variable` group is saved; however the value stored in the `tf.Variable` is lost. In order to save this we must utilize `tf.train.Saver`."
   ]
  },
  {
   "cell_type": "code",
   "execution_count": 4,
   "metadata": {},
   "outputs": [
    {
     "data": {
      "text/plain": [
       "'/tmp/model.ckpt'"
      ]
     },
     "execution_count": 4,
     "metadata": {},
     "output_type": "execute_result"
    }
   ],
   "source": [
    "import tensorflow as tf\n",
    "\n",
    "g1 = tf.Graph()\n",
    "\n",
    "with g1.as_default():   \n",
    "    v = tf.get_variable(name=\"v\", shape=(), initializer=tf.glorot_uniform_initializer())\n",
    "    saver = tf.train.Saver()\n",
    "    \n",
    "sess = tf.Session(graph=g1);\n",
    "sess.run(v.initializer)\n",
    "sess.run(v.assign_add(1))\n",
    "sess.run(v.assign_add(1))\n",
    "sess.run(v.assign_add(1))\n",
    "sess.run(v.assign_add(1))\n",
    "saver.save(sess, \"/tmp/model.ckpt\")"
   ]
  },
  {
   "cell_type": "markdown",
   "metadata": {},
   "source": [
    "*We perform some adds to our variable, then we run the saver. **Note** the files produced are actually checkpoint, model.ckpt.data-…, model.ckpt.index, and model.ckpt.meta. When we call /tmp/model.ckpt later, these files will need to exist so don’t move them around.*"
   ]
  },
  {
   "cell_type": "code",
   "execution_count": 5,
   "metadata": {},
   "outputs": [
    {
     "name": "stdout",
     "output_type": "stream",
     "text": [
      "INFO:tensorflow:Restoring parameters from /tmp/model.ckpt\n"
     ]
    },
    {
     "data": {
      "text/plain": [
       "3.136492"
      ]
     },
     "execution_count": 5,
     "metadata": {},
     "output_type": "execute_result"
    }
   ],
   "source": [
    "import tensorflow as tf\n",
    "\n",
    "g1 = tf.Graph()\n",
    "\n",
    "with g1.as_default():   \n",
    "    v = tf.get_variable(name=\"v\", shape=(), initializer=tf.glorot_uniform_initializer())\n",
    "    saver = tf.train.Saver()\n",
    "    \n",
    "sess = tf.Session(graph=g1);\n",
    "saver.restore(sess, \"/tmp/model.ckpt\")\n",
    "sess.run(v)"
   ]
  },
  {
   "cell_type": "markdown",
   "metadata": {},
   "source": [
    "*We can run the saver to restore our session variable. Since the value is coming from our checkpoint file, no init is needed.*"
   ]
  },
  {
   "cell_type": "markdown",
   "metadata": {},
   "source": [
    "To put most simply, the `.ckpt` file is just a map of our variable names to the value that was stored during the session. If I created an entirely new graph, as long as I had the variable name `v` in my graph I would be able to restore the value in the checkpoint.\n",
    "\n",
    "In production these `.ckpt` files can be run multiple times to snapshot the progress of a Tensorflow graph that is running in a session.\n",
    "\n",
    "I hope this was a helpful short overview of the low level tensorflow API."
   ]
  }
 ],
 "metadata": {
  "kernelspec": {
   "display_name": "Python 2",
   "language": "python",
   "name": "python2"
  },
  "language_info": {
   "codemirror_mode": {
    "name": "ipython",
    "version": 2
   },
   "file_extension": ".py",
   "mimetype": "text/x-python",
   "name": "python",
   "nbconvert_exporter": "python",
   "pygments_lexer": "ipython2",
   "version": "2.7.12"
  }
 },
 "nbformat": 4,
 "nbformat_minor": 2
}
